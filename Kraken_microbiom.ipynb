{
  "nbformat": 4,
  "nbformat_minor": 0,
  "metadata": {
    "colab": {
      "name": "Kraken2-tutorial.ipynb",
      "provenance": [],
      "toc_visible": true,
      "include_colab_link": true
    },
    "kernelspec": {
      "name": "python3",
      "display_name": "Python 3"
    }
  },
  "cells": [
    {
      "cell_type": "markdown",
      "metadata": {
        "id": "view-in-github",
        "colab_type": "text"
      },
      "source": [
        "<a href=\"https://colab.research.google.com/github/martin-steinegger/kraken-protocol/blob/main/Kraken_microbiom.ipynb\" target=\"_parent\"><img src=\"https://colab.research.google.com/assets/colab-badge.svg\" alt=\"Open In Colab\"/></a>"
      ]
    },
    {
      "cell_type": "markdown",
      "metadata": {
        "id": "APwVpqYJBx3p"
      },
      "source": [
        "#Metagenome analysis using the Kraken software suite - Microbial analysis\n",
        "\n",
        "This notebook executes the \"Microbiome Analysis\" workflow described in the manuscript \"Metagenome analysis using the Kraken software suite\". To execute this notebook click \"Runtime\" -> \"Run all\"'. Running this whole notebook takes approx. **30-40 minutes**! To see the code click \"Show code\" under the section of interest."
      ]
    },
    {
      "cell_type": "code",
      "metadata": {
        "id": "zCcLpdTan0lx",
        "cellView": "form"
      },
      "source": [
        "#@title Install Software using Conda\n",
        "!wget https://repo.continuum.io/miniconda/Miniconda3-4.5.4-Linux-x86_64.sh\n",
        "!chmod +x Miniconda3-4.5.4-Linux-x86_64.sh\n",
        "!./Miniconda3-4.5.4-Linux-x86_64.sh -b -f -p /usr/local\n",
        "\n",
        "!conda create -yqn tutorial -c conda-forge -c bioconda kraken2 krakentools bracken\n",
        "# in a shell you would run the following, however we want the binaries to be available in this notebook\n",
        "# source activate tutorial\n",
        "conda_path = !source activate tutorial && echo $CONDA_PREFIX:$PATH\n",
        "%set_env PATH=$conda_path"
      ],
      "execution_count": null,
      "outputs": []
    },
    {
      "cell_type": "code",
      "metadata": {
        "id": "oVQBxDeHoDI6",
        "cellView": "form"
      },
      "source": [
        "#@title Download Samples\n",
        "!wget -qnc ftp://ftp.sra.ebi.ac.uk/vol1/fastq/SRR136/008/SRR13697208/SRR13697208_1.fastq.gz\n",
        "!wget -qnc ftp://ftp.sra.ebi.ac.uk/vol1/fastq/SRR136/008/SRR13697208/SRR13697208_2.fastq.gz\n",
        "!wget -qnc ftp://ftp.sra.ebi.ac.uk/vol1/fastq/SRR136/054/SRR13697154/SRR13697154_1.fastq.gz\n",
        "!wget -qnc ftp://ftp.sra.ebi.ac.uk/vol1/fastq/SRR136/054/SRR13697154/SRR13697154_2.fastq.gz\n",
        "!wget -qnc ftp://ftp.sra.ebi.ac.uk/vol1/fastq/SRR136/036/SRR13697136/SRR13697136_1.fastq.gz\n",
        "!wget -qnc ftp://ftp.sra.ebi.ac.uk/vol1/fastq/SRR136/036/SRR13697136/SRR13697136_2.fastq.gz\n",
        "!wget -qnc ftp://ftp.sra.ebi.ac.uk/vol1/fastq/SRR136/069/SRR13697069/SRR13697069_1.fastq.gz\n",
        "!wget -qnc ftp://ftp.sra.ebi.ac.uk/vol1/fastq/SRR136/069/SRR13697069/SRR13697069_2.fastq.gz\n",
        "!wget -qnc ftp://ftp.sra.ebi.ac.uk/vol1/fastq/SRR136/067/SRR13697067/SRR13697067_1.fastq.gz\n",
        "!wget -qnc ftp://ftp.sra.ebi.ac.uk/vol1/fastq/SRR136/067/SRR13697067/SRR13697067_2.fastq.gz\n",
        "for sample in [\"SRR13697208\", \"SRR13697154\", \"SRR13697136\", \"SRR13697069\", \"SRR13697067\"]: \n",
        "  !gunzip {sample}_1.fastq.gz \n",
        "  !gunzip {sample}_2.fastq.gz"
      ],
      "execution_count": null,
      "outputs": []
    },
    {
      "cell_type": "code",
      "metadata": {
        "id": "a2R65tFYohTY",
        "cellView": "form"
      },
      "source": [
        "#@title Download Reference Database\n",
        "!mkdir protocol_db\n",
        "!wget -qnc https://genome-idx.s3.amazonaws.com/kraken/k2_standard_eupath_20201202.tar.gz\n",
        "!tar xvfz k2_standard_eupath_20201202.tar.gz -C protocol_db"
      ],
      "execution_count": null,
      "outputs": []
    },
    {
      "cell_type": "code",
      "metadata": {
        "id": "X7w0PTT2qUIm",
        "cellView": "form"
      },
      "source": [
        "#@title Classify Reads using Kraken2\n",
        "for sample in [\"SRR13697208\", \"SRR13697154\", \"SRR13697136\", \"SRR13697069\", \"SRR13697067\"]: \n",
        "  !kraken2 --db protocol_db --report {sample}.k2report --report-minimizer-data --minimum-hit-groups 3 {sample}_1.fastq {sample}_2.fastq > {sample}.kraken2"
      ],
      "execution_count": null,
      "outputs": []
    },
    {
      "cell_type": "code",
      "metadata": {
        "id": "s7dUekmH8-B-",
        "cellView": "form"
      },
      "source": [
        "#@title Estimate Abundance of Species using Bracken\n",
        "for sample in [\"SRR13697208\", \"SRR13697154\", \"SRR13697136\", \"SRR13697069\", \"SRR13697067\"]: \n",
        "  !bracken -d protocol_db -i {sample}.k2report -o {sample}.bracken -w {sample}.breport -r 100 -l S -t 10"
      ],
      "execution_count": null,
      "outputs": []
    },
    {
      "cell_type": "code",
      "metadata": {
        "id": "-T0s6BGm9a6k",
        "cellView": "form"
      },
      "source": [
        "#@title Compute Alpha Diversity\n",
        "for sample in [\"SRR13697208\", \"SRR13697154\", \"SRR13697136\", \"SRR13697069\", \"SRR13697067\"]: \n",
        "  !alpha_diversity.py -f {sample}.bracken -a BP"
      ],
      "execution_count": null,
      "outputs": []
    },
    {
      "cell_type": "code",
      "metadata": {
        "id": "JHwCdSjq9yko",
        "cellView": "form"
      },
      "source": [
        "#@title Compute Beta Diversity\n",
        "!beta_diversity.py -i SRR13697069.bracken SRR13697067.bracken SRR13697136.bracken --type bracken"
      ],
      "execution_count": null,
      "outputs": []
    },
    {
      "cell_type": "code",
      "metadata": {
        "id": "-Afa4tMi-PEU",
        "cellView": "form"
      },
      "source": [
        "#@title Visualizing Taxonomy using Krona\n",
        "for sample in [\"SRR13697208\", \"SRR13697154\", \"SRR13697136\", \"SRR13697069\", \"SRR13697067\"]: \n",
        "  !kreport2krona.py -r {sample}.k2report -o {sample}.b.krona.txt --no-intermediate-ranks"
      ],
      "execution_count": null,
      "outputs": []
    },
    {
      "cell_type": "code",
      "metadata": {
        "id": "bPk-nzfWAYRQ",
        "cellView": "form"
      },
      "source": [
        "#@title Download SRR13697154.k2report\n",
        "from google.colab import files\n",
        "files.download('SRR13697154.k2report') "
      ],
      "execution_count": null,
      "outputs": []
    },
    {
      "cell_type": "markdown",
      "metadata": {
        "id": "cUcrzBfsJGa3"
      },
      "source": [
        "##Visualizing Sample using Pavian"
      ]
    },
    {
      "cell_type": "code",
      "metadata": {
        "id": "VUK3Dm15rXCf"
      },
      "source": [
        "#Visualizing Sample using Pavian\n",
        "from IPython.display import IFrame\n",
        "IFrame('https://fbreitwieser.shinyapps.io/pavian/', width='100%', height=600)"
      ],
      "execution_count": null,
      "outputs": []
    }
  ]
}