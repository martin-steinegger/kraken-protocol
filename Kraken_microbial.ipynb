{
  "nbformat": 4,
  "nbformat_minor": 0,
  "metadata": {
    "colab": {
      "name": "Kraken2-tutorial.ipynb",
      "provenance": [],
      "toc_visible": true,
      "include_colab_link": true
    },
    "kernelspec": {
      "name": "python3",
      "display_name": "Python 3"
    }
  },
  "cells": [
    {
      "cell_type": "markdown",
      "metadata": {
        "id": "view-in-github",
        "colab_type": "text"
      },
      "source": [
        "<a href=\"https://colab.research.google.com/github/martin-steinegger/kraken-protocol/blob/main/Kraken_microbial.ipynb\" target=\"_parent\"><img src=\"https://colab.research.google.com/assets/colab-badge.svg\" alt=\"Open In Colab\"/></a>"
      ]
    },
    {
      "cell_type": "markdown",
      "metadata": {
        "id": "4Q8qe4xE1ABy"
      },
      "source": [
        "## Install required software for the tutorials using Conda\n",
        "\n",
        "We will use [Conda](https://conda.io/projects/conda/en/latest/user-guide/getting-started.html)\n",
        "to setup all required software for this tutorial.\n",
        "\n"
      ]
    },
    {
      "cell_type": "code",
      "metadata": {
        "id": "zCcLpdTan0lx",
        "colab": {
          "base_uri": "https://localhost:8080/"
        },
        "outputId": "850ec077-0178-4aa0-f1ef-2210df45655c"
      },
      "source": [
        "# install software using conda\n",
        "!wget https://repo.continuum.io/miniconda/Miniconda3-4.5.4-Linux-x86_64.sh\n",
        "!chmod +x Miniconda3-4.5.4-Linux-x86_64.sh\n",
        "!./Miniconda3-4.5.4-Linux-x86_64.sh -b -f -p /usr/local\n",
        "\n",
        "!conda create -yqn tutorial -c conda-forge -c bioconda kraken2 krakentools bracken\n",
        "# in a shell you would run the following, however we want the binaries to be available in this notebook\n",
        "# source activate tutorial\n",
        "conda_path = !source activate tutorial && echo $CONDA_PREFIX:$PATH\n",
        "%set_env PATH=$conda_path\n"
      ],
      "execution_count": null,
      "outputs": [
        {
          "output_type": "stream",
          "text": [
            "--2021-03-22 15:25:43--  https://repo.continuum.io/miniconda/Miniconda3-4.5.4-Linux-x86_64.sh\n",
            "Resolving repo.continuum.io (repo.continuum.io)... 104.18.200.79, 104.18.201.79, 2606:4700::6812:c84f, ...\n",
            "Connecting to repo.continuum.io (repo.continuum.io)|104.18.200.79|:443... connected.\n",
            "HTTP request sent, awaiting response... 301 Moved Permanently\n",
            "Location: https://repo.anaconda.com/miniconda/Miniconda3-4.5.4-Linux-x86_64.sh [following]\n",
            "--2021-03-22 15:25:43--  https://repo.anaconda.com/miniconda/Miniconda3-4.5.4-Linux-x86_64.sh\n",
            "Resolving repo.anaconda.com (repo.anaconda.com)... 104.16.130.3, 104.16.131.3, 2606:4700::6810:8303, ...\n",
            "Connecting to repo.anaconda.com (repo.anaconda.com)|104.16.130.3|:443... connected.\n",
            "HTTP request sent, awaiting response... 200 OK\n",
            "Length: 58468498 (56M) [application/x-sh]\n",
            "Saving to: ‘Miniconda3-4.5.4-Linux-x86_64.sh’\n",
            "\n",
            "Miniconda3-4.5.4-Li 100%[===================>]  55.76M   136MB/s    in 0.4s    \n",
            "\n",
            "2021-03-22 15:25:43 (136 MB/s) - ‘Miniconda3-4.5.4-Linux-x86_64.sh’ saved [58468498/58468498]\n",
            "\n",
            "PREFIX=/usr/local\n",
            "installing: python-3.6.5-hc3d631a_2 ...\n",
            "Python 3.6.5 :: Anaconda, Inc.\n",
            "installing: ca-certificates-2018.03.07-0 ...\n",
            "installing: conda-env-2.6.0-h36134e3_1 ...\n",
            "installing: libgcc-ng-7.2.0-hdf63c60_3 ...\n",
            "installing: libstdcxx-ng-7.2.0-hdf63c60_3 ...\n",
            "installing: libffi-3.2.1-hd88cf55_4 ...\n",
            "installing: ncurses-6.1-hf484d3e_0 ...\n",
            "installing: openssl-1.0.2o-h20670df_0 ...\n",
            "installing: tk-8.6.7-hc745277_3 ...\n",
            "installing: xz-5.2.4-h14c3975_4 ...\n",
            "installing: yaml-0.1.7-had09818_2 ...\n",
            "installing: zlib-1.2.11-ha838bed_2 ...\n",
            "installing: libedit-3.1.20170329-h6b74fdf_2 ...\n",
            "installing: readline-7.0-ha6073c6_4 ...\n",
            "installing: sqlite-3.23.1-he433501_0 ...\n",
            "installing: asn1crypto-0.24.0-py36_0 ...\n",
            "installing: certifi-2018.4.16-py36_0 ...\n",
            "installing: chardet-3.0.4-py36h0f667ec_1 ...\n",
            "installing: idna-2.6-py36h82fb2a8_1 ...\n",
            "installing: pycosat-0.6.3-py36h0a5515d_0 ...\n",
            "installing: pycparser-2.18-py36hf9f622e_1 ...\n",
            "installing: pysocks-1.6.8-py36_0 ...\n",
            "installing: ruamel_yaml-0.15.37-py36h14c3975_2 ...\n",
            "installing: six-1.11.0-py36h372c433_1 ...\n",
            "installing: cffi-1.11.5-py36h9745a5d_0 ...\n",
            "installing: setuptools-39.2.0-py36_0 ...\n",
            "installing: cryptography-2.2.2-py36h14c3975_0 ...\n",
            "installing: wheel-0.31.1-py36_0 ...\n",
            "installing: pip-10.0.1-py36_0 ...\n",
            "installing: pyopenssl-18.0.0-py36_0 ...\n",
            "installing: urllib3-1.22-py36hbe7ace6_0 ...\n",
            "installing: requests-2.18.4-py36he2e5f8d_1 ...\n",
            "installing: conda-4.5.4-py36_0 ...\n",
            "installation finished.\n",
            "WARNING:\n",
            "    You currently have a PYTHONPATH environment variable set. This may cause\n",
            "    unexpected behavior when running the Python interpreter in Miniconda3.\n",
            "    For best results, please verify that your PYTHONPATH only points to\n",
            "    directories of packages that are compatible with the Python interpreter\n",
            "    in Miniconda3: /usr/local\n",
            "Solving environment: ...working... done\n",
            "\n",
            "## Package Plan ##\n",
            "\n",
            "  environment location: /usr/local/envs/tutorial\n",
            "\n",
            "  added / updated specs: \n",
            "    - bracken\n",
            "    - kraken2\n",
            "    - krakentools\n",
            "\n",
            "\n",
            "The following packages will be downloaded:\n",
            "\n",
            "    package                    |            build\n",
            "    ---------------------------|-----------------\n",
            "    libcurl-7.75.0             |       hc4aaa36_0         328 KB  conda-forge\n",
            "    perl-file-listing-6.04     |          pl526_1           9 KB  bioconda\n",
            "    perl-io-socket-ssl-2.066   |          pl526_0         151 KB  bioconda\n",
            "    perl-xml-simple-2.25       |          pl526_1          48 KB  bioconda\n",
            "    perl-business-isbn-3.004   |          pl526_0          15 KB  bioconda\n",
            "    perl-digest-md5-2.55       |          pl526_0          18 KB  bioconda\n",
            "    libunistring-0.9.10        |       h14c3975_0         1.4 MB  conda-forge\n",
            "    libopenblas-0.3.12         |pthreads_h4812303_1         8.9 MB  conda-forge\n",
            "    perl-json-4.02             |          pl526_0          52 KB  bioconda\n",
            "    libgfortran5-9.3.0         |      hff62375_18         2.0 MB  conda-forge\n",
            "    perl-app-cpanminus-1.7044  |          pl526_1         234 KB  bioconda\n",
            "    certifi-2020.12.5          |   py38h578d9bd_1         143 KB  conda-forge\n",
            "    libedit-3.1.20191231       |       he28a2e2_2         121 KB  conda-forge\n",
            "    perl-time-local-1.28       |          pl526_1          10 KB  bioconda\n",
            "    gettext-0.19.8.1           |    h0b5b191_1005         3.6 MB  conda-forge\n",
            "    wget-1.20.1                |       h22169c7_0         788 KB  conda-forge\n",
            "    perl-uri-1.76              |          pl526_0          55 KB  bioconda\n",
            "    python-3.8.8               |hffdb5ce_0_cpython        26.1 MB  conda-forge\n",
            "    krakentools-1.0.1          |     pyh3252c3a_0          23 KB  bioconda\n",
            "    sqlite-3.34.0              |       h74cdb3f_0         1.4 MB  conda-forge\n",
            "    perl-lwp-mediatypes-6.04   |          pl526_0          22 KB  bioconda\n",
            "    perl-parent-0.236          |          pl526_1           5 KB  bioconda\n",
            "    perl-encode-2.88           |          pl526_1         2.1 MB  bioconda\n",
            "    ld_impl_linux-64-2.35.1    |       hea4e1c9_2         618 KB  conda-forge\n",
            "    xz-5.2.5                   |       h516909a_1         343 KB  conda-forge\n",
            "    perl-xml-parser-2.44_01    |pl526ha1d75be_1002         165 KB  conda-forge\n",
            "    perl-xml-namespacesupport-1.12|          pl526_0          11 KB  bioconda\n",
            "    libgfortran-ng-9.3.0       |      hff62375_18          22 KB  conda-forge\n",
            "    blast-2.11.0               |  pl526he19e7b1_0        20.8 MB  bioconda\n",
            "    perl-constant-1.33         |          pl526_1          10 KB  bioconda\n",
            "    perl-io-html-1.001         |          pl526_2          13 KB  bioconda\n",
            "    lz4-c-1.9.3                |       h9c3ff4c_0         179 KB  conda-forge\n",
            "    perl-scalar-list-utils-1.52|  pl526h516909a_0          38 KB  bioconda\n",
            "    bzip2-1.0.8                |       h7f98852_4         484 KB  conda-forge\n",
            "    libblas-3.9.0              |       8_openblas          11 KB  conda-forge\n",
            "    pcre-8.44                  |       he1b5a44_0         261 KB  conda-forge\n",
            "    perl-file-path-2.16        |          pl526_0          17 KB  bioconda\n",
            "    perl-pathtools-3.75        |  pl526h14c3975_1          41 KB  bioconda\n",
            "    perl-net-ssleay-1.88       |  pl526h90d6eec_0         289 KB  bioconda\n",
            "    libstdcxx-ng-9.3.0         |      h6de172a_18         4.0 MB  conda-forge\n",
            "    ncurses-6.2                |       h58526e2_4         985 KB  conda-forge\n",
            "    libnghttp2-1.43.0          |       h812cca2_0         808 KB  conda-forge\n",
            "    expat-2.2.10               |       h9c3ff4c_0         164 KB  conda-forge\n",
            "    numpy-1.20.1               |   py38h18fd61f_0         5.8 MB  conda-forge\n",
            "    perl-mime-base64-3.15      |          pl526_1          15 KB  bioconda\n",
            "    perl-try-tiny-0.30         |          pl526_1          17 KB  bioconda\n",
            "    perl-exporter-5.72         |          pl526_1          13 KB  bioconda\n",
            "    perl-storable-3.15         |  pl526h14c3975_0          63 KB  bioconda\n",
            "    perl-business-isbn-data-20140910.003|          pl526_0          15 KB  bioconda\n",
            "    perl-http-date-6.02        |          pl526_3          10 KB  bioconda\n",
            "    entrez-direct-13.9         |  pl526h375a9b1_1         5.2 MB  bioconda\n",
            "    rsync-3.2.3                |       h7593e3f_1         312 KB  conda-forge\n",
            "    perl-net-http-6.19         |          pl526_0          19 KB  bioconda\n",
            "    perl-io-zlib-1.10          |          pl526_2           9 KB  bioconda\n",
            "    perl-http-cookies-6.04     |          pl526_0          19 KB  bioconda\n",
            "    perl-common-sense-3.74     |          pl526_2          11 KB  bioconda\n",
            "    perl-http-negotiate-6.01   |          pl526_3          13 KB  bioconda\n",
            "    perl-archive-tar-2.32      |          pl526_0          31 KB  bioconda\n",
            "    perl-libwww-perl-6.39      |          pl526_0          94 KB  bioconda\n",
            "    perl-encode-locale-1.05    |          pl526_6          11 KB  bioconda\n",
            "    perl-xml-sax-expat-0.51    |          pl526_3          10 KB  bioconda\n",
            "    setuptools-49.6.0          |   py38h578d9bd_3         929 KB  conda-forge\n",
            "    perl-www-robotrules-6.02   |          pl526_3          12 KB  bioconda\n",
            "    bracken-2.6.1              |   py38hed8969a_0         319 KB  bioconda\n",
            "    libiconv-1.16              |       h516909a_0         1.4 MB  conda-forge\n",
            "    _libgcc_mutex-0.1          |      conda_forge           3 KB  conda-forge\n",
            "    perl-xsloader-0.24         |          pl526_0           8 KB  bioconda\n",
            "    perl-data-dumper-2.173     |          pl526_0          35 KB  bioconda\n",
            "    perl-base-2.23             |          pl526_1          10 KB  bioconda\n",
            "    c-ares-1.17.1              |       h7f98852_1         109 KB  conda-forge\n",
            "    libev-4.33                 |       h516909a_1         104 KB  conda-forge\n",
            "    perl-carp-1.38             |          pl526_3          15 KB  bioconda\n",
            "    perl-list-moreutils-xs-0.428|          pl526_0          43 KB  bioconda\n",
            "    perl-xml-sax-base-1.09     |          pl526_0          19 KB  bioconda\n",
            "    tar-1.34                   |       ha1f6473_0         904 KB  conda-forge\n",
            "    perl-mozilla-ca-20180117   |          pl526_1         140 KB  bioconda\n",
            "    popt-1.16                  |    h0b475e3_2002         184 KB  conda-forge\n",
            "    perl-xml-sax-1.02          |          pl526_0          36 KB  bioconda\n",
            "    libgcc-ng-9.3.0            |      h2828fa1_18         7.8 MB  conda-forge\n",
            "    perl-json-xs-2.34          |  pl526h6bb024c_3          63 KB  bioconda\n",
            "    perl-test-requiresinternet-0.05|          pl526_0           7 KB  bioconda\n",
            "    pip-21.0.1                 |     pyhd8ed1ab_0         1.1 MB  conda-forge\n",
            "    perl-compress-raw-bzip2-2.087|  pl526he1b5a44_0          44 KB  bioconda\n",
            "    _openmp_mutex-4.5          |            1_gnu          22 KB  conda-forge\n",
            "    ca-certificates-2020.12.5  |       ha878542_0         137 KB  conda-forge\n",
            "    tk-8.6.10                  |       h21135ba_1         3.2 MB  conda-forge\n",
            "    zstd-1.4.9                 |       ha95c52a_0         431 KB  conda-forge\n",
            "    libssh2-1.9.0              |       ha56f1ee_6         226 KB  conda-forge\n",
            "    perl-ntlm-1.09             |          pl526_4          15 KB  bioconda\n",
            "    libcblas-3.9.0             |       8_openblas          11 KB  conda-forge\n",
            "    perl-html-tree-5.07        |          pl526_1         129 KB  bioconda\n",
            "    perl-5.26.2                |    h36c2ea0_1008        15.4 MB  conda-forge\n",
            "    perl-http-daemon-6.01      |          pl526_1          14 KB  bioconda\n",
            "    libidn2-2.3.0              |       h516909a_0          97 KB  conda-forge\n",
            "    krb5-1.17.2                |       h926e7f8_0         1.4 MB  conda-forge\n",
            "    perl-compress-raw-zlib-2.087|  pl526hc9558a2_0          72 KB  bioconda\n",
            "    python_abi-3.8             |           1_cp38           4 KB  conda-forge\n",
            "    perl-html-tagset-3.20      |          pl526_3          12 KB  bioconda\n",
            "    perl-file-temp-0.2304      |          pl526_2          26 KB  bioconda\n",
            "    xxhash-0.8.0               |       h7f98852_3          86 KB  conda-forge\n",
            "    perl-exporter-tiny-1.002001|          pl526_0          23 KB  bioconda\n",
            "    perl-extutils-makemaker-7.36|          pl526_1         153 KB  bioconda\n",
            "    libgomp-9.3.0              |      h2828fa1_18         376 KB  conda-forge\n",
            "    perl-list-moreutils-0.428  |          pl526_1          28 KB  bioconda\n",
            "    readline-8.0               |       he28a2e2_2         281 KB  conda-forge\n",
            "    zlib-1.2.11                |    h516909a_1010         106 KB  conda-forge\n",
            "    biopython-1.78             |   py38h497a2fe_2         2.6 MB  conda-forge\n",
            "    perl-lwp-protocol-https-6.07|          pl526_4           9 KB  bioconda\n",
            "    kraken2-2.1.1              |  pl526hc9558a2_0         203 KB  bioconda\n",
            "    perl-digest-hmac-1.03      |          pl526_3           9 KB  bioconda\n",
            "    wheel-0.36.2               |     pyhd3deb0d_0          31 KB  conda-forge\n",
            "    curl-7.75.0                |       h979ede3_0         147 KB  conda-forge\n",
            "    perl-http-message-6.18     |          pl526_0          51 KB  bioconda\n",
            "    openssl-1.1.1j             |       h7f98852_0         2.1 MB  conda-forge\n",
            "    liblapack-3.9.0            |       8_openblas          11 KB  conda-forge\n",
            "    libffi-3.3                 |       h58526e2_2          51 KB  conda-forge\n",
            "    perl-socket-2.027          |          pl526_1          31 KB  bioconda\n",
            "    perl-types-serialiser-1.0  |          pl526_2          10 KB  bioconda\n",
            "    perl-html-parser-3.72      |  pl526h6bb024c_5          66 KB  bioconda\n",
            "    perl-io-compress-2.087     |  pl526he1b5a44_0          81 KB  bioconda\n",
            "    ------------------------------------------------------------\n",
            "                                           Total:       129.1 MB\n",
            "\n",
            "The following NEW packages will be INSTALLED:\n",
            "\n",
            "    _libgcc_mutex:              0.1-conda_forge            conda-forge\n",
            "    _openmp_mutex:              4.5-1_gnu                  conda-forge\n",
            "    biopython:                  1.78-py38h497a2fe_2        conda-forge\n",
            "    blast:                      2.11.0-pl526he19e7b1_0     bioconda   \n",
            "    bracken:                    2.6.1-py38hed8969a_0       bioconda   \n",
            "    bzip2:                      1.0.8-h7f98852_4           conda-forge\n",
            "    c-ares:                     1.17.1-h7f98852_1          conda-forge\n",
            "    ca-certificates:            2020.12.5-ha878542_0       conda-forge\n",
            "    certifi:                    2020.12.5-py38h578d9bd_1   conda-forge\n",
            "    curl:                       7.75.0-h979ede3_0          conda-forge\n",
            "    entrez-direct:              13.9-pl526h375a9b1_1       bioconda   \n",
            "    expat:                      2.2.10-h9c3ff4c_0          conda-forge\n",
            "    gettext:                    0.19.8.1-h0b5b191_1005     conda-forge\n",
            "    kraken2:                    2.1.1-pl526hc9558a2_0      bioconda   \n",
            "    krakentools:                1.0.1-pyh3252c3a_0         bioconda   \n",
            "    krb5:                       1.17.2-h926e7f8_0          conda-forge\n",
            "    ld_impl_linux-64:           2.35.1-hea4e1c9_2          conda-forge\n",
            "    libblas:                    3.9.0-8_openblas           conda-forge\n",
            "    libcblas:                   3.9.0-8_openblas           conda-forge\n",
            "    libcurl:                    7.75.0-hc4aaa36_0          conda-forge\n",
            "    libedit:                    3.1.20191231-he28a2e2_2    conda-forge\n",
            "    libev:                      4.33-h516909a_1            conda-forge\n",
            "    libffi:                     3.3-h58526e2_2             conda-forge\n",
            "    libgcc-ng:                  9.3.0-h2828fa1_18          conda-forge\n",
            "    libgfortran-ng:             9.3.0-hff62375_18          conda-forge\n",
            "    libgfortran5:               9.3.0-hff62375_18          conda-forge\n",
            "    libgomp:                    9.3.0-h2828fa1_18          conda-forge\n",
            "    libiconv:                   1.16-h516909a_0            conda-forge\n",
            "    libidn2:                    2.3.0-h516909a_0           conda-forge\n",
            "    liblapack:                  3.9.0-8_openblas           conda-forge\n",
            "    libnghttp2:                 1.43.0-h812cca2_0          conda-forge\n",
            "    libopenblas:                0.3.12-pthreads_h4812303_1 conda-forge\n",
            "    libssh2:                    1.9.0-ha56f1ee_6           conda-forge\n",
            "    libstdcxx-ng:               9.3.0-h6de172a_18          conda-forge\n",
            "    libunistring:               0.9.10-h14c3975_0          conda-forge\n",
            "    lz4-c:                      1.9.3-h9c3ff4c_0           conda-forge\n",
            "    ncurses:                    6.2-h58526e2_4             conda-forge\n",
            "    numpy:                      1.20.1-py38h18fd61f_0      conda-forge\n",
            "    openssl:                    1.1.1j-h7f98852_0          conda-forge\n",
            "    pcre:                       8.44-he1b5a44_0            conda-forge\n",
            "    perl:                       5.26.2-h36c2ea0_1008       conda-forge\n",
            "    perl-app-cpanminus:         1.7044-pl526_1             bioconda   \n",
            "    perl-archive-tar:           2.32-pl526_0               bioconda   \n",
            "    perl-base:                  2.23-pl526_1               bioconda   \n",
            "    perl-business-isbn:         3.004-pl526_0              bioconda   \n",
            "    perl-business-isbn-data:    20140910.003-pl526_0       bioconda   \n",
            "    perl-carp:                  1.38-pl526_3               bioconda   \n",
            "    perl-common-sense:          3.74-pl526_2               bioconda   \n",
            "    perl-compress-raw-bzip2:    2.087-pl526he1b5a44_0      bioconda   \n",
            "    perl-compress-raw-zlib:     2.087-pl526hc9558a2_0      bioconda   \n",
            "    perl-constant:              1.33-pl526_1               bioconda   \n",
            "    perl-data-dumper:           2.173-pl526_0              bioconda   \n",
            "    perl-digest-hmac:           1.03-pl526_3               bioconda   \n",
            "    perl-digest-md5:            2.55-pl526_0               bioconda   \n",
            "    perl-encode:                2.88-pl526_1               bioconda   \n",
            "    perl-encode-locale:         1.05-pl526_6               bioconda   \n",
            "    perl-exporter:              5.72-pl526_1               bioconda   \n",
            "    perl-exporter-tiny:         1.002001-pl526_0           bioconda   \n",
            "    perl-extutils-makemaker:    7.36-pl526_1               bioconda   \n",
            "    perl-file-listing:          6.04-pl526_1               bioconda   \n",
            "    perl-file-path:             2.16-pl526_0               bioconda   \n",
            "    perl-file-temp:             0.2304-pl526_2             bioconda   \n",
            "    perl-html-parser:           3.72-pl526h6bb024c_5       bioconda   \n",
            "    perl-html-tagset:           3.20-pl526_3               bioconda   \n",
            "    perl-html-tree:             5.07-pl526_1               bioconda   \n",
            "    perl-http-cookies:          6.04-pl526_0               bioconda   \n",
            "    perl-http-daemon:           6.01-pl526_1               bioconda   \n",
            "    perl-http-date:             6.02-pl526_3               bioconda   \n",
            "    perl-http-message:          6.18-pl526_0               bioconda   \n",
            "    perl-http-negotiate:        6.01-pl526_3               bioconda   \n",
            "    perl-io-compress:           2.087-pl526he1b5a44_0      bioconda   \n",
            "    perl-io-html:               1.001-pl526_2              bioconda   \n",
            "    perl-io-socket-ssl:         2.066-pl526_0              bioconda   \n",
            "    perl-io-zlib:               1.10-pl526_2               bioconda   \n",
            "    perl-json:                  4.02-pl526_0               bioconda   \n",
            "    perl-json-xs:               2.34-pl526h6bb024c_3       bioconda   \n",
            "    perl-libwww-perl:           6.39-pl526_0               bioconda   \n",
            "    perl-list-moreutils:        0.428-pl526_1              bioconda   \n",
            "    perl-list-moreutils-xs:     0.428-pl526_0              bioconda   \n",
            "    perl-lwp-mediatypes:        6.04-pl526_0               bioconda   \n",
            "    perl-lwp-protocol-https:    6.07-pl526_4               bioconda   \n",
            "    perl-mime-base64:           3.15-pl526_1               bioconda   \n",
            "    perl-mozilla-ca:            20180117-pl526_1           bioconda   \n",
            "    perl-net-http:              6.19-pl526_0               bioconda   \n",
            "    perl-net-ssleay:            1.88-pl526h90d6eec_0       bioconda   \n",
            "    perl-ntlm:                  1.09-pl526_4               bioconda   \n",
            "    perl-parent:                0.236-pl526_1              bioconda   \n",
            "    perl-pathtools:             3.75-pl526h14c3975_1       bioconda   \n",
            "    perl-scalar-list-utils:     1.52-pl526h516909a_0       bioconda   \n",
            "    perl-socket:                2.027-pl526_1              bioconda   \n",
            "    perl-storable:              3.15-pl526h14c3975_0       bioconda   \n",
            "    perl-test-requiresinternet: 0.05-pl526_0               bioconda   \n",
            "    perl-time-local:            1.28-pl526_1               bioconda   \n",
            "    perl-try-tiny:              0.30-pl526_1               bioconda   \n",
            "    perl-types-serialiser:      1.0-pl526_2                bioconda   \n",
            "    perl-uri:                   1.76-pl526_0               bioconda   \n",
            "    perl-www-robotrules:        6.02-pl526_3               bioconda   \n",
            "    perl-xml-namespacesupport:  1.12-pl526_0               bioconda   \n",
            "    perl-xml-parser:            2.44_01-pl526ha1d75be_1002 conda-forge\n",
            "    perl-xml-sax:               1.02-pl526_0               bioconda   \n",
            "    perl-xml-sax-base:          1.09-pl526_0               bioconda   \n",
            "    perl-xml-sax-expat:         0.51-pl526_3               bioconda   \n",
            "    perl-xml-simple:            2.25-pl526_1               bioconda   \n",
            "    perl-xsloader:              0.24-pl526_0               bioconda   \n",
            "    pip:                        21.0.1-pyhd8ed1ab_0        conda-forge\n",
            "    popt:                       1.16-h0b475e3_2002         conda-forge\n",
            "    python:                     3.8.8-hffdb5ce_0_cpython   conda-forge\n",
            "    python_abi:                 3.8-1_cp38                 conda-forge\n",
            "    readline:                   8.0-he28a2e2_2             conda-forge\n",
            "    rsync:                      3.2.3-h7593e3f_1           conda-forge\n",
            "    setuptools:                 49.6.0-py38h578d9bd_3      conda-forge\n",
            "    sqlite:                     3.34.0-h74cdb3f_0          conda-forge\n",
            "    tar:                        1.34-ha1f6473_0            conda-forge\n",
            "    tk:                         8.6.10-h21135ba_1          conda-forge\n",
            "    wget:                       1.20.1-h22169c7_0          conda-forge\n",
            "    wheel:                      0.36.2-pyhd3deb0d_0        conda-forge\n",
            "    xxhash:                     0.8.0-h7f98852_3           conda-forge\n",
            "    xz:                         5.2.5-h516909a_1           conda-forge\n",
            "    zlib:                       1.2.11-h516909a_1010       conda-forge\n",
            "    zstd:                       1.4.9-ha95c52a_0           conda-forge\n",
            "\n",
            "Preparing transaction: ...working... done\n",
            "Verifying transaction: ...working... done\n",
            "Executing transaction: ...working... done\n",
            "env: PATH=['/usr/local/envs/tutorial:/usr/local/envs/tutorial/bin:/usr/local/nvidia/bin:/usr/local/cuda/bin:/usr/local/sbin:/usr/local/bin:/usr/sbin:/usr/bin:/sbin:/bin:/tools/node/bin:/tools/google-cloud-sdk/bin:/opt/bin']\n"
          ],
          "name": "stdout"
        }
      ]
    },
    {
      "cell_type": "markdown",
      "metadata": {
        "id": "LeKeU2s_n67z"
      },
      "source": [
        "# The Sample\n",
        "<div style=\"display:flex; flex-direction:row;\">\n",
        "<div>\n",
        "Explain the data\n",
        "Links for the fecal transplant files:\n",
        "\n",
        "*   ID\tFile_size\tLink\n",
        "*   SRR13697208\t32.9Mb\thttps://www.ncbi.nlm.nih.gov/sra/SRX10086289[accn]\n",
        "*   SRR13697154\t230.9Mb\thttps://www.ncbi.nlm.nih.gov/sra/SRX10086343[accn]\n",
        "*   SRR13697136\t150.2Mb\thttps://www.ncbi.nlm.nih.gov/sra/SRX10086361[accn]\n",
        "*   SRR13697069\t58.7Mb\thttps://www.ncbi.nlm.nih.gov/sra/SRX10086428[accn]\n",
        "*   SRR13697067\t330.5Mb\thttps://www.ncbi.nlm.nih.gov/sra/SRX10086430[accn]    \n",
        "</div>\n",
        "</div>"
      ]
    },
    {
      "cell_type": "markdown",
      "metadata": {
        "id": "xRx9VUDGoPcO"
      },
      "source": [
        "# Downloading the reads\n",
        "The sequencer returns paired-end reads where sequencing\n",
        "starts in opposite directions from two close-by points to cover the\n",
        "same genomic region. ....."
      ]
    },
    {
      "cell_type": "code",
      "metadata": {
        "id": "oVQBxDeHoDI6",
        "colab": {
          "base_uri": "https://localhost:8080/"
        },
        "outputId": "fee5ddbe-873b-4da6-d1fe-72a05a064ef7"
      },
      "source": [
        "!wget -nv -c ftp://ftp.sra.ebi.ac.uk/vol1/fastq/SRR136/008/SRR13697208/SRR13697208_1.fastq.gz\n",
        "!wget -nv -c ftp://ftp.sra.ebi.ac.uk/vol1/fastq/SRR136/008/SRR13697208/SRR13697208_2.fastq.gz\n",
        "!wget -nv -c ftp://ftp.sra.ebi.ac.uk/vol1/fastq/SRR136/054/SRR13697154/SRR13697154_1.fastq.gz\n",
        "!wget -nv -c ftp://ftp.sra.ebi.ac.uk/vol1/fastq/SRR136/054/SRR13697154/SRR13697154_2.fastq.gz\n",
        "!wget -nv -c ftp://ftp.sra.ebi.ac.uk/vol1/fastq/SRR136/036/SRR13697136/SRR13697136_1.fastq.gz\n",
        "!wget -nv -c ftp://ftp.sra.ebi.ac.uk/vol1/fastq/SRR136/036/SRR13697136/SRR13697136_2.fastq.gz\n",
        "!wget -nv -c ftp://ftp.sra.ebi.ac.uk/vol1/fastq/SRR136/069/SRR13697069/SRR13697069_1.fastq.gz\n",
        "!wget -nv -c ftp://ftp.sra.ebi.ac.uk/vol1/fastq/SRR136/069/SRR13697069/SRR13697069_2.fastq.gz\n",
        "!wget -nv -c ftp://ftp.sra.ebi.ac.uk/vol1/fastq/SRR136/067/SRR13697067/SRR13697067_1.fastq.gz\n",
        "!wget -nv -c ftp://ftp.sra.ebi.ac.uk/vol1/fastq/SRR136/067/SRR13697067/SRR13697067_2.fastq.gz"
      ],
      "execution_count": null,
      "outputs": [
        {
          "output_type": "stream",
          "text": [
            "2021-03-22 15:29:43 URL: ftp://ftp.sra.ebi.ac.uk/vol1/fastq/SRR136/008/SRR13697208/SRR13697208_1.fastq.gz [21771180] -> \"SRR13697208_1.fastq.gz\" [1]\n",
            "2021-03-22 15:29:44 URL: ftp://ftp.sra.ebi.ac.uk/vol1/fastq/SRR136/008/SRR13697208/SRR13697208_2.fastq.gz [24922731] -> \"SRR13697208_2.fastq.gz\" [1]\n",
            "2021-03-22 15:29:51 URL: ftp://ftp.sra.ebi.ac.uk/vol1/fastq/SRR136/054/SRR13697154/SRR13697154_1.fastq.gz [163225608] -> \"SRR13697154_1.fastq.gz\" [1]\n",
            "2021-03-22 15:30:37 URL: ftp://ftp.sra.ebi.ac.uk/vol1/fastq/SRR136/054/SRR13697154/SRR13697154_2.fastq.gz [180459481] -> \"SRR13697154_2.fastq.gz\" [1]\n",
            "2021-03-22 15:30:47 URL: ftp://ftp.sra.ebi.ac.uk/vol1/fastq/SRR136/036/SRR13697136/SRR13697136_1.fastq.gz [101776088] -> \"SRR13697136_1.fastq.gz\" [1]\n",
            "2021-03-22 15:30:49 URL: ftp://ftp.sra.ebi.ac.uk/vol1/fastq/SRR136/036/SRR13697136/SRR13697136_2.fastq.gz [113384507] -> \"SRR13697136_2.fastq.gz\" [1]\n",
            "2021-03-22 15:30:50 URL: ftp://ftp.sra.ebi.ac.uk/vol1/fastq/SRR136/069/SRR13697069/SRR13697069_1.fastq.gz [40449325] -> \"SRR13697069_1.fastq.gz\" [1]\n",
            "2021-03-22 15:30:57 URL: ftp://ftp.sra.ebi.ac.uk/vol1/fastq/SRR136/069/SRR13697069/SRR13697069_2.fastq.gz [45013418] -> \"SRR13697069_2.fastq.gz\" [1]\n",
            "2021-03-22 15:31:03 URL: ftp://ftp.sra.ebi.ac.uk/vol1/fastq/SRR136/067/SRR13697067/SRR13697067_1.fastq.gz [232475247] -> \"SRR13697067_1.fastq.gz\" [1]\n",
            "2021-03-22 15:36:41 URL: ftp://ftp.sra.ebi.ac.uk/vol1/fastq/SRR136/067/SRR13697067/SRR13697067_2.fastq.gz [238356142] -> \"SRR13697067_2.fastq.gz\" [1]\n"
          ],
          "name": "stdout"
        }
      ]
    },
    {
      "cell_type": "code",
      "metadata": {
        "id": "98Fqlym98ksz"
      },
      "source": [
        "for sample in [\"SRR13697208\", \"SRR13697154\", \"SRR13697136\", \"SRR13697069\", \"SRR13697067\"]: \n",
        "  !gunzip {sample}_1.fastq.gz \n",
        "  !gunzip {sample}_2.fastq.gz"
      ],
      "execution_count": null,
      "outputs": []
    },
    {
      "cell_type": "markdown",
      "metadata": {
        "id": "wnzw3ti6oZhB"
      },
      "source": [
        "# Reference database\n",
        "We will use the kraken2 database containing XXXX  (its standard + eupathdb46 clean). \n"
      ]
    },
    {
      "cell_type": "code",
      "metadata": {
        "id": "a2R65tFYohTY",
        "colab": {
          "base_uri": "https://localhost:8080/"
        },
        "outputId": "9ae9fe69-17a5-43b6-e41b-6636eca9d432"
      },
      "source": [
        "!mkdir protocol_db\n",
        "!wget https://genome-idx.s3.amazonaws.com/kraken/k2_standard_eupath_20201202.tar.gz\n",
        "!tar xvfz k2_standard_eupath_20201202.tar.gz -C protocol_db"
      ],
      "execution_count": null,
      "outputs": [
        {
          "output_type": "stream",
          "text": [
            "--2021-03-22 15:37:28--  https://genome-idx.s3.amazonaws.com/kraken/k2_standard_eupath_20201202.tar.gz\n",
            "Resolving genome-idx.s3.amazonaws.com (genome-idx.s3.amazonaws.com)... 52.216.141.148\n",
            "Connecting to genome-idx.s3.amazonaws.com (genome-idx.s3.amazonaws.com)|52.216.141.148|:443... connected.\n",
            "HTTP request sent, awaiting response... 200 OK\n",
            "Length: 5895829825 (5.5G) [application/x-tar]\n",
            "Saving to: ‘k2_standard_eupath_20201202.tar.gz’\n",
            "\n",
            "k2_standard_eupath_ 100%[===================>]   5.49G  28.7MB/s    in 2m 51s  \n",
            "\n",
            "2021-03-22 15:40:20 (32.8 MB/s) - ‘k2_standard_eupath_20201202.tar.gz’ saved [5895829825/5895829825]\n",
            "\n",
            "hash.k2d\n",
            "opts.k2d\n",
            "taxo.k2d\n",
            "seqid2taxid.map\n",
            "inspect.txt\n",
            "database100mers.kmer_distrib\n",
            "database150mers.kmer_distrib\n",
            "database200mers.kmer_distrib\n",
            "database250mers.kmer_distrib\n",
            "database300mers.kmer_distrib\n",
            "database50mers.kmer_distrib\n",
            "database75mers.kmer_distrib\n"
          ],
          "name": "stdout"
        }
      ]
    },
    {
      "cell_type": "markdown",
      "metadata": {
        "id": "UeWCsToGqFfZ"
      },
      "source": [
        "# Classify the reads against the kraken2-mini database\n",
        "To classify a set of sequences, use the follwoing kraken2 command. It will search each minimizer in ...*kursiver Text*"
      ]
    },
    {
      "cell_type": "code",
      "metadata": {
        "id": "X7w0PTT2qUIm",
        "colab": {
          "base_uri": "https://localhost:8080/"
        },
        "outputId": "97c1ba87-9868-4205-961e-ecb8fec22f07"
      },
      "source": [
        "for sample in [\"SRR13697208\", \"SRR13697154\", \"SRR13697136\", \"SRR13697069\", \"SRR13697067\"]: \n",
        "  !kraken2 --db protocol_db --report {sample}.k2report --report-minimizer-data --minimum-hit-groups 3 {sample}_1.fastq {sample}_2.fastq > {sample}.kraken2\n"
      ],
      "execution_count": null,
      "outputs": [
        {
          "output_type": "stream",
          "text": [
            "Loading database information...tcmalloc: large alloc 8000004096 bytes == 0x55d35c454000 @  0x7f3695730887 0x55d35a2f07cd 0x55d35a2f0a18 0x55d35a2dfa64 0x7f3694d6ebf7 0x55d35a2e0539\n",
            " done.\n",
            "748792 sequences (92.54 Mbp) processed in 7.511s (5981.2 Kseq/m, 739.18 Mbp/m).\n",
            "  505229 sequences classified (67.47%)\n",
            "  243563 sequences unclassified (32.53%)\n",
            "Loading database information...tcmalloc: large alloc 8000004096 bytes == 0x55884b008000 @  0x7f92aa03d887 0x558849fab7cd 0x558849faba18 0x558849f9aa64 0x7f92a967bbf7 0x558849f9b539\n",
            " done.\n",
            "6341068 sequences (628.90 Mbp) processed in 48.440s (7854.3 Kseq/m, 778.99 Mbp/m).\n",
            "  1523021 sequences classified (24.02%)\n",
            "  4818047 sequences unclassified (75.98%)\n",
            "Loading database information...tcmalloc: large alloc 8000004096 bytes == 0x55af0fcb0000 @  0x7f0484b64887 0x55af0e3687cd 0x55af0e368a18 0x55af0e357a64 0x7f04841a2bf7 0x55af0e358539\n",
            " done.\n",
            "3205428 sequences (392.83 Mbp) processed in 32.653s (5890.0 Kseq/m, 721.82 Mbp/m).\n",
            "  2143185 sequences classified (66.86%)\n",
            "  1062243 sequences unclassified (33.14%)\n",
            "Loading database information...tcmalloc: large alloc 8000004096 bytes == 0x5621c4aa4000 @  0x7f51b50d4887 0x5621c32b67cd 0x5621c32b6a18 0x5621c32a5a64 0x7f51b4712bf7 0x5621c32a6539\n",
            " done.\n",
            "1679980 sequences (166.51 Mbp) processed in 13.322s (7566.5 Kseq/m, 749.96 Mbp/m).\n",
            "  817080 sequences classified (48.64%)\n",
            "  862900 sequences unclassified (51.36%)\n",
            "Loading database information...tcmalloc: large alloc 8000004096 bytes == 0x55c412290000 @  0x7fce8844d887 0x55c4109b87cd 0x55c4109b8a18 0x55c4109a7a64 0x7fce87a8bbf7 0x55c4109a8539\n",
            " done.\n",
            "6910438 sequences (792.62 Mbp) processed in 61.537s (6737.9 Kseq/m, 772.83 Mbp/m).\n",
            "  2071894 sequences classified (29.98%)\n",
            "  4838544 sequences unclassified (70.02%)\n"
          ],
          "name": "stdout"
        }
      ]
    },
    {
      "cell_type": "markdown",
      "metadata": {
        "id": "k3AK1tfE69CK"
      },
      "source": [
        "# Estimate abundance of species in sample sequences \n",
        "Bracken uses the output from Kraken/KrakenUniq/Kraken2 to estimate the abundace "
      ]
    },
    {
      "cell_type": "code",
      "metadata": {
        "colab": {
          "base_uri": "https://localhost:8080/"
        },
        "id": "s7dUekmH8-B-",
        "outputId": "88747781-9626-454c-f679-b8279231a71e"
      },
      "source": [
        "for sample in [\"SRR13697208\", \"SRR13697154\", \"SRR13697136\", \"SRR13697069\", \"SRR13697067\"]: \n",
        "  !bracken -d protocol_db -i {sample}.k2report -o {sample}.bracken -w {sample}.breport -r 100 -l S -t 10\n"
      ],
      "execution_count": null,
      "outputs": [
        {
          "output_type": "stream",
          "text": [
            " >> Checking for Valid Options...\n",
            " >> Running Bracken \n",
            "      >> python src/est_abundance.py -i SRR13697208.k2report -o SRR13697208.bracken -k protocol_db/database100mers.kmer_distrib -l S -t 10\n",
            "PROGRAM START TIME: 03-22-2021 15:51:15\n",
            ">> Checking report file: SRR13697208.k2report\n",
            "BRACKEN SUMMARY (Kraken report: SRR13697208.k2report)\n",
            "    >>> Threshold: 10 \n",
            "    >>> Number of species in sample: 180 \n",
            "\t  >> Number of species with reads > threshold: 46 \n",
            "\t  >> Number of species with reads < threshold: 134 \n",
            "    >>> Total reads in sample: 748792\n",
            "\t  >> Total reads kept at species level (reads > threshold): 335020\n",
            "\t  >> Total reads discarded (species reads < threshold): 334\n",
            "\t  >> Reads distributed: 504943\n",
            "\t  >> Reads not distributed (eg. no species above threshold): 286\n",
            "\t  >> Unclassified reads: 243563\n",
            "BRACKEN OUTPUT PRODUCED: SRR13697208.bracken\n",
            "PROGRAM END TIME: 03-22-2021 15:51:15\n",
            "  Bracken complete.\n",
            " >> Checking for Valid Options...\n",
            " >> Running Bracken \n",
            "      >> python src/est_abundance.py -i SRR13697154.k2report -o SRR13697154.bracken -k protocol_db/database100mers.kmer_distrib -l S -t 10\n",
            "PROGRAM START TIME: 03-22-2021 15:51:15\n",
            ">> Checking report file: SRR13697154.k2report\n",
            "BRACKEN SUMMARY (Kraken report: SRR13697154.k2report)\n",
            "    >>> Threshold: 10 \n",
            "    >>> Number of species in sample: 852 \n",
            "\t  >> Number of species with reads > threshold: 243 \n",
            "\t  >> Number of species with reads < threshold: 609 \n",
            "    >>> Total reads in sample: 6341068\n",
            "\t  >> Total reads kept at species level (reads > threshold): 740110\n",
            "\t  >> Total reads discarded (species reads < threshold): 1379\n",
            "\t  >> Reads distributed: 1521633\n",
            "\t  >> Reads not distributed (eg. no species above threshold): 1388\n",
            "\t  >> Unclassified reads: 4818047\n",
            "BRACKEN OUTPUT PRODUCED: SRR13697154.bracken\n",
            "PROGRAM END TIME: 03-22-2021 15:51:15\n",
            "  Bracken complete.\n",
            " >> Checking for Valid Options...\n",
            " >> Running Bracken \n",
            "      >> python src/est_abundance.py -i SRR13697136.k2report -o SRR13697136.bracken -k protocol_db/database100mers.kmer_distrib -l S -t 10\n",
            "PROGRAM START TIME: 03-22-2021 15:51:15\n",
            ">> Checking report file: SRR13697136.k2report\n",
            "BRACKEN SUMMARY (Kraken report: SRR13697136.k2report)\n",
            "    >>> Threshold: 10 \n",
            "    >>> Number of species in sample: 188 \n",
            "\t  >> Number of species with reads > threshold: 45 \n",
            "\t  >> Number of species with reads < threshold: 143 \n",
            "    >>> Total reads in sample: 3205428\n",
            "\t  >> Total reads kept at species level (reads > threshold): 1415674\n",
            "\t  >> Total reads discarded (species reads < threshold): 282\n",
            "\t  >> Reads distributed: 2142963\n",
            "\t  >> Reads not distributed (eg. no species above threshold): 222\n",
            "\t  >> Unclassified reads: 1062243\n",
            "BRACKEN OUTPUT PRODUCED: SRR13697136.bracken\n",
            "PROGRAM END TIME: 03-22-2021 15:51:16\n",
            "  Bracken complete.\n",
            " >> Checking for Valid Options...\n",
            " >> Running Bracken \n",
            "      >> python src/est_abundance.py -i SRR13697069.k2report -o SRR13697069.bracken -k protocol_db/database100mers.kmer_distrib -l S -t 10\n",
            "PROGRAM START TIME: 03-22-2021 15:51:16\n",
            ">> Checking report file: SRR13697069.k2report\n",
            "BRACKEN SUMMARY (Kraken report: SRR13697069.k2report)\n",
            "    >>> Threshold: 10 \n",
            "    >>> Number of species in sample: 184 \n",
            "\t  >> Number of species with reads > threshold: 46 \n",
            "\t  >> Number of species with reads < threshold: 138 \n",
            "    >>> Total reads in sample: 1679980\n",
            "\t  >> Total reads kept at species level (reads > threshold): 551345\n",
            "\t  >> Total reads discarded (species reads < threshold): 293\n",
            "\t  >> Reads distributed: 816802\n",
            "\t  >> Reads not distributed (eg. no species above threshold): 278\n",
            "\t  >> Unclassified reads: 862900\n",
            "BRACKEN OUTPUT PRODUCED: SRR13697069.bracken\n",
            "PROGRAM END TIME: 03-22-2021 15:51:16\n",
            "  Bracken complete.\n",
            " >> Checking for Valid Options...\n",
            " >> Running Bracken \n",
            "      >> python src/est_abundance.py -i SRR13697067.k2report -o SRR13697067.bracken -k protocol_db/database100mers.kmer_distrib -l S -t 10\n",
            "PROGRAM START TIME: 03-22-2021 15:51:16\n",
            ">> Checking report file: SRR13697067.k2report\n",
            "BRACKEN SUMMARY (Kraken report: SRR13697067.k2report)\n",
            "    >>> Threshold: 10 \n",
            "    >>> Number of species in sample: 901 \n",
            "\t  >> Number of species with reads > threshold: 243 \n",
            "\t  >> Number of species with reads < threshold: 658 \n",
            "    >>> Total reads in sample: 6910438\n",
            "\t  >> Total reads kept at species level (reads > threshold): 1784984\n",
            "\t  >> Total reads discarded (species reads < threshold): 1554\n",
            "\t  >> Reads distributed: 2070233\n",
            "\t  >> Reads not distributed (eg. no species above threshold): 1661\n",
            "\t  >> Unclassified reads: 4838544\n",
            "BRACKEN OUTPUT PRODUCED: SRR13697067.bracken\n",
            "PROGRAM END TIME: 03-22-2021 15:51:16\n",
            "  Bracken complete.\n"
          ],
          "name": "stdout"
        }
      ]
    },
    {
      "cell_type": "markdown",
      "metadata": {
        "id": "5evTqC9d9OPK"
      },
      "source": [
        "# Compute Alpha Diversity\n",
        "Alpha diversity .... "
      ]
    },
    {
      "cell_type": "code",
      "metadata": {
        "id": "-T0s6BGm9a6k",
        "colab": {
          "base_uri": "https://localhost:8080/"
        },
        "outputId": "ef3eff33-81c9-4c19-c802-06c75ab32dba"
      },
      "source": [
        "for sample in [\"SRR13697208\", \"SRR13697154\", \"SRR13697136\", \"SRR13697069\", \"SRR13697067\"]: \n",
        "  !alpha_diversity.py -f {sample}.bracken -a BP"
      ],
      "execution_count": null,
      "outputs": [
        {
          "output_type": "stream",
          "text": [
            "Berger-parker's diversity: 0.9819299180271052\n",
            "Berger-parker's diversity: 0.39697169060452486\n",
            "Berger-parker's diversity: 0.9668693013373701\n",
            "Berger-parker's diversity: 0.9883726197661791\n",
            "Berger-parker's diversity: 0.3779643380925053\n"
          ],
          "name": "stdout"
        }
      ]
    },
    {
      "cell_type": "markdown",
      "metadata": {
        "id": "N1FkKrV89wGi"
      },
      "source": [
        "# Compute Beta Diversity\n",
        "Beta diversity"
      ]
    },
    {
      "cell_type": "code",
      "metadata": {
        "colab": {
          "base_uri": "https://localhost:8080/"
        },
        "id": "JHwCdSjq9yko",
        "outputId": "858c4db9-0dd6-4794-aee4-a7bfed9a4bbb"
      },
      "source": [
        "!beta_diversity.py -i SRR13697069.bracken SRR13697067.bracken SRR13697136.bracken --type bracken"
      ],
      "execution_count": null,
      "outputs": [
        {
          "output_type": "stream",
          "text": [
            "#0\tSRR13697069.bracken (816779 reads)\n",
            "#1\tSRR13697067.bracken (2070108 reads)\n",
            "#2\tSRR13697136.bracken (2142937 reads)\n",
            "x\t0\t1\t2\n",
            "0\t0.000\t0.995\t0.450\n",
            "1\tx.xxx\t0.000\t0.989\n",
            "2\tx.xxx\tx.xxx\t0.000\n"
          ],
          "name": "stdout"
        }
      ]
    },
    {
      "cell_type": "markdown",
      "metadata": {
        "id": "Op33lQ8_-Cps"
      },
      "source": [
        "# Visualizing taxonomy using Krona\n",
        "bla bla"
      ]
    },
    {
      "cell_type": "code",
      "metadata": {
        "id": "-Afa4tMi-PEU"
      },
      "source": [
        "for sample in [\"SRR13697208\", \"SRR13697154\", \"SRR13697136\", \"SRR13697069\", \"SRR13697067\"]: \n",
        "  !kreport2krona.py -r {sample}.k2report -o {sample}.b.krona.txt --no-intermediate-ranks"
      ],
      "execution_count": null,
      "outputs": []
    },
    {
      "cell_type": "markdown",
      "metadata": {
        "id": "F-vB_AUCrWbU"
      },
      "source": [
        "# Visualizing taxonomic using Pavian\n",
        "\n",
        "Pavian is an interactive visualization of the data using. It takes the myster_reads.report as input. \n"
      ]
    },
    {
      "cell_type": "code",
      "metadata": {
        "colab": {
          "base_uri": "https://localhost:8080/",
          "height": 17
        },
        "id": "bPk-nzfWAYRQ",
        "outputId": "5b7782eb-e672-481e-d1b2-2e4c33f9eebb"
      },
      "source": [
        "from google.colab import files\n",
        "files.download('SRR13697154.k2report') "
      ],
      "execution_count": null,
      "outputs": [
        {
          "output_type": "display_data",
          "data": {
            "application/javascript": [
              "\n",
              "    async function download(id, filename, size) {\n",
              "      if (!google.colab.kernel.accessAllowed) {\n",
              "        return;\n",
              "      }\n",
              "      const div = document.createElement('div');\n",
              "      const label = document.createElement('label');\n",
              "      label.textContent = `Downloading \"${filename}\": `;\n",
              "      div.appendChild(label);\n",
              "      const progress = document.createElement('progress');\n",
              "      progress.max = size;\n",
              "      div.appendChild(progress);\n",
              "      document.body.appendChild(div);\n",
              "\n",
              "      const buffers = [];\n",
              "      let downloaded = 0;\n",
              "\n",
              "      const channel = await google.colab.kernel.comms.open(id);\n",
              "      // Send a message to notify the kernel that we're ready.\n",
              "      channel.send({})\n",
              "\n",
              "      for await (const message of channel.messages) {\n",
              "        // Send a message to notify the kernel that we're ready.\n",
              "        channel.send({})\n",
              "        if (message.buffers) {\n",
              "          for (const buffer of message.buffers) {\n",
              "            buffers.push(buffer);\n",
              "            downloaded += buffer.byteLength;\n",
              "            progress.value = downloaded;\n",
              "          }\n",
              "        }\n",
              "      }\n",
              "      const blob = new Blob(buffers, {type: 'application/binary'});\n",
              "      const a = document.createElement('a');\n",
              "      a.href = window.URL.createObjectURL(blob);\n",
              "      a.download = filename;\n",
              "      div.appendChild(a);\n",
              "      a.click();\n",
              "      div.remove();\n",
              "    }\n",
              "  "
            ],
            "text/plain": [
              "<IPython.core.display.Javascript object>"
            ]
          },
          "metadata": {
            "tags": []
          }
        },
        {
          "output_type": "display_data",
          "data": {
            "application/javascript": [
              "download(\"download_d28c8b39-fd6f-4766-b257-20a0af564eb7\", \"SRR13697154.k2report\", 136305)"
            ],
            "text/plain": [
              "<IPython.core.display.Javascript object>"
            ]
          },
          "metadata": {
            "tags": []
          }
        }
      ]
    },
    {
      "cell_type": "code",
      "metadata": {
        "colab": {
          "base_uri": "https://localhost:8080/",
          "height": 622
        },
        "id": "VUK3Dm15rXCf",
        "outputId": "0776e64d-11a5-44f3-b3c4-6979e6e27006"
      },
      "source": [
        "from IPython.display import IFrame\n",
        "IFrame('https://fbreitwieser.shinyapps.io/pavian/', width='100%', height=600)"
      ],
      "execution_count": null,
      "outputs": [
        {
          "output_type": "execute_result",
          "data": {
            "text/html": [
              "\n",
              "        <iframe\n",
              "            width=\"100%\"\n",
              "            height=\"600\"\n",
              "            src=\"https://fbreitwieser.shinyapps.io/pavian/\"\n",
              "            frameborder=\"0\"\n",
              "            allowfullscreen\n",
              "        ></iframe>\n",
              "        "
            ],
            "text/plain": [
              "<IPython.lib.display.IFrame at 0x7f116c493410>"
            ]
          },
          "metadata": {
            "tags": []
          },
          "execution_count": 11
        }
      ]
    }
  ]
}